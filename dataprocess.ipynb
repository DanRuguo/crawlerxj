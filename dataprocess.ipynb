{
 "cells": [
  {
   "cell_type": "code",
   "id": "initial_id",
   "metadata": {
    "collapsed": true,
    "ExecuteTime": {
     "end_time": "2024-07-08T10:19:08.748282Z",
     "start_time": "2024-07-08T10:19:08.599947Z"
    }
   },
   "source": [
    "import pandas as pd\n",
    "import matplotlib.pyplot as plt\n",
    "# 支持中文\n",
    "plt.rcParams['font.sans-serif'] = ['SimHei']  # 用来正常显示中文标签\n",
    "plt.rcParams['axes.unicode_minus'] = False  # 用来正常显示负号\n",
    "\n",
    "# 加载数据\n",
    "file_path = 'transactions.csv'\n",
    "data = pd.read_csv(file_path)\n",
    "\n",
    "# 将 'jndatetime' 列转换为 datetime 格式并考虑时区，提取小时数\n",
    "data['Hour'] = pd.to_datetime(data['jndatetime'], utc=True).dt.tz_convert('Asia/Shanghai').dt.hour\n",
    "\n",
    "# 计算每个小时的交易次数\n",
    "hour_counts = data['Hour'].value_counts().sort_index()\n",
    "\n",
    "# 确保所有小时都表示出来，即使某些小时没有交易\n",
    "all_hours = pd.Series(range(24))  # 一天中的所有小时\n",
    "hour_counts = hour_counts.reindex(all_hours, fill_value=0)  # 重新索引所有小时，填充缺失值为0\n",
    "\n",
    "# 过滤掉计数小于10的小时\n",
    "filtered_hour_counts = hour_counts[hour_counts >= 10]\n",
    "\n",
    "# 绘制扇形图，显示过滤后的小时计数\n",
    "plt.figure(figsize=(10, 8))\n",
    "plt.pie(filtered_hour_counts, labels=filtered_hour_counts.index, autopct='%1.1f%%', startangle=90)\n",
    "plt.title('薛俊各时段使用校园卡消费次数统计 (Counts ≥ 10)')\n",
    "plt.show()"
   ],
   "execution_count": 3,
   "outputs": []
  },
  {
   "metadata": {
    "ExecuteTime": {
     "end_time": "2024-07-08T10:24:47.573736Z",
     "start_time": "2024-07-08T10:24:47.552574Z"
    }
   },
   "cell_type": "code",
   "source": [
    "# 转换 'tranamt' 列，从分转换为元\n",
    "data['TransactionAmount'] = data['tranamt'] / 100\n",
    "\n",
    "# 过滤出交易次数大于10的小时\n",
    "active_hours = hour_counts[hour_counts > 10].index\n",
    "\n",
    "# 选择这些小时的数据进行进一步分析\n",
    "active_data = data[data['Hour'].isin(active_hours)]\n",
    "\n",
    "# 按小时分组计算统计量\n",
    "stats = active_data.groupby('Hour')['TransactionAmount'].agg(['mean', 'var', 'median'])\n",
    "\n",
    "# 打印结果\n",
    "stats"
   ],
   "id": "699d745392257621",
   "execution_count": 4,
   "outputs": []
  },
  {
   "metadata": {
    "ExecuteTime": {
     "end_time": "2024-07-08T10:37:17.798605Z",
     "start_time": "2024-07-08T10:37:17.624660Z"
    }
   },
   "cell_type": "code",
   "source": [
    "# 创建食堂列表\n",
    "canteens = [\n",
    "    \"东一食堂一层\", \"东一食堂二层\", \"东一食堂三层\",\n",
    "    \"兰缘食堂一层\", \"兰缘食堂二层\",\n",
    "    \"西苑食堂一层\", \"西苑食堂二层\",\n",
    "    \"东二食堂一层\", \"东二食堂二层\", \"东二食堂三层\",\n",
    "    \"芳缘食堂一层\"\n",
    "]\n",
    "\n",
    "# 初始化字典来计数\n",
    "canteen_counts = {canteen: 0 for canteen in canteens}\n",
    "\n",
    "# 遍历食堂列表，计算每个食堂的频数\n",
    "for canteen in canteens:\n",
    "    canteen_counts[canteen] = data['resume'].str.contains(canteen).sum()\n",
    "\n",
    "# 绘制扇形图\n",
    "plt.figure(figsize=(10, 8))\n",
    "plt.pie(canteen_counts.values(), labels=canteen_counts.keys(), autopct='%1.1f%%', startangle=90)\n",
    "plt.title('薛俊使用校园卡付费时去各个食堂次数比例')\n",
    "plt.show()\n",
    "\n",
    "# 打印计数结果\n",
    "canteen_counts"
   ],
   "id": "b0aac34f0cff46bc",
   "execution_count": 7,
   "outputs": []
  },
  {
   "metadata": {
    "ExecuteTime": {
     "end_time": "2024-07-08T10:42:43.992409Z",
     "start_time": "2024-07-08T10:42:43.971418Z"
    }
   },
   "cell_type": "code",
   "source": [
    "# 提取食堂及窗口号\n",
    "extracted_data = data['resume'].str.extract(r'(东一食堂一层|东一食堂二层|东一食堂三层|兰缘食堂一层|兰缘食堂二层|西苑食堂一层|西苑食堂二层|东二食堂一层|东二食堂二层|东二食堂三层|芳缘食堂一层)\\s*(\\d+号)')\n",
    "\n",
    "# 生成一个新列为食堂加窗口号\n",
    "data['CanteenCounter'] = extracted_data[0] + \" \" + extracted_data[1]\n",
    "\n",
    "# 统计频数并排序\n",
    "canteen_counter_freq = data['CanteenCounter'].value_counts().sort_values(ascending=False)\n",
    "\n",
    "# 计算每个食堂窗口的消费均值、中位数和方差\n",
    "stats_by_counter = data.groupby('CanteenCounter')['TransactionAmount'].agg(['mean', 'median', 'var']).dropna()\n",
    "\n",
    "# 合并频数、消费均值、中位数和方差的表\n",
    "combined_stats = pd.concat([canteen_counter_freq, stats_by_counter], axis=1)\n",
    "combined_stats.columns = ['Frequency', 'Mean', 'Median', 'Variance']\n",
    "\n",
    "# 按频数从多到少排序\n",
    "combined_stats_sorted = combined_stats.sort_values(by='Frequency', ascending=False)\n",
    "\n",
    "combined_stats_sorted"
   ],
   "id": "52b1bb99dad5de89",
   "execution_count": 9,
   "outputs": []
  },
  {
   "metadata": {
    "ExecuteTime": {
     "end_time": "2024-07-08T10:42:30.500708Z",
     "start_time": "2024-07-08T10:42:30.495692Z"
    }
   },
   "cell_type": "code",
   "source": "",
   "id": "6e8b538b8e2e62ec",
   "execution_count": 8,
   "outputs": []
  },
  {
   "metadata": {},
   "cell_type": "code",
   "execution_count": null,
   "source": "",
   "id": "70c8585d1c1fd9b9",
   "outputs": []
  }
 ],
 "metadata": {
  "kernelspec": {
   "display_name": "Python 3",
   "language": "python",
   "name": "python3"
  },
  "language_info": {
   "codemirror_mode": {
    "name": "ipython",
    "version": 2
   },
   "file_extension": ".py",
   "mimetype": "text/x-python",
   "name": "python",
   "nbconvert_exporter": "python",
   "pygments_lexer": "ipython2",
   "version": "2.7.6"
  }
 },
 "nbformat": 4,
 "nbformat_minor": 5
}
